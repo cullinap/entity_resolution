{
 "cells": [
  {
   "cell_type": "code",
   "execution_count": 1,
   "metadata": {},
   "outputs": [],
   "source": [
    "import sys \n",
    "sys.path.append('..')"
   ]
  },
  {
   "cell_type": "code",
   "execution_count": 2,
   "metadata": {},
   "outputs": [],
   "source": [
    "from src.data_generators.company_generator import CompanyGenerator"
   ]
  },
  {
   "cell_type": "code",
   "execution_count": 3,
   "metadata": {},
   "outputs": [],
   "source": [
    "company_list = CompanyGenerator()"
   ]
  },
  {
   "cell_type": "code",
   "execution_count": 5,
   "metadata": {},
   "outputs": [
    {
     "data": {
      "text/plain": [
       "['Wright, Hamilton and Perry',\n",
       " 'Hogan Group',\n",
       " 'Wright, Hamilton an Perry',\n",
       " 'Hogn Group',\n",
       " 'Novak LLC',\n",
       " 'Banks PLC',\n",
       " 'Rodriguez-Miller',\n",
       " 'Russell Inc',\n",
       " 'Preston-Goodwin',\n",
       " 'Reynolds Group',\n",
       " 'Mccormick Inc',\n",
       " 'Gibbs-Johnson',\n",
       " 'Ware, Williams and Christian',\n",
       " 'Gonzalez-Jennings']"
      ]
     },
     "execution_count": 5,
     "metadata": {},
     "output_type": "execute_result"
    }
   ],
   "source": [
    "company_list.generate_mix_dataset()"
   ]
  },
  {
   "cell_type": "code",
   "execution_count": null,
   "metadata": {},
   "outputs": [],
   "source": [
    "# random insertions\n",
    "# duplicates"
   ]
  }
 ],
 "metadata": {
  "kernelspec": {
   "display_name": "Python 3.10.9 ('entity_resolution-2oV6RqRR')",
   "language": "python",
   "name": "python3"
  },
  "language_info": {
   "codemirror_mode": {
    "name": "ipython",
    "version": 3
   },
   "file_extension": ".py",
   "mimetype": "text/x-python",
   "name": "python",
   "nbconvert_exporter": "python",
   "pygments_lexer": "ipython3",
   "version": "3.10.9"
  },
  "orig_nbformat": 4,
  "vscode": {
   "interpreter": {
    "hash": "fbdbf10412466deee04990d130d4c252995ddd7f268815f07c17f9b363ddb166"
   }
  }
 },
 "nbformat": 4,
 "nbformat_minor": 2
}
