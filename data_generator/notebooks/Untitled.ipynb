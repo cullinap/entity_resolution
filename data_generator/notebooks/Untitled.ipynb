{
 "cells": [
  {
   "cell_type": "code",
   "execution_count": 1,
   "id": "567213ef-f6df-415d-9f15-58de91dc1348",
   "metadata": {},
   "outputs": [],
   "source": [
    "from faker import Faker"
   ]
  },
  {
   "cell_type": "code",
   "execution_count": 2,
   "id": "e0fc693a-0358-441e-afca-bf48a4cf2937",
   "metadata": {},
   "outputs": [],
   "source": [
    "# Create a set a name addresses w/varition\n",
    "# Example\n",
    "# Matt Smith 123 Fake Street\n",
    "# Matthew Smith 123 Fake Street\n",
    "# Matt Smith 123 Fake St"
   ]
  },
  {
   "cell_type": "code",
   "execution_count": null,
   "id": "e40e42a4-06af-479d-87db-15086c2f642a",
   "metadata": {},
   "outputs": [],
   "source": []
  }
 ],
 "metadata": {
  "kernelspec": {
   "display_name": "entity_resolution",
   "language": "python",
   "name": "entity_resolution"
  },
  "language_info": {
   "codemirror_mode": {
    "name": "ipython",
    "version": 3
   },
   "file_extension": ".py",
   "mimetype": "text/x-python",
   "name": "python",
   "nbconvert_exporter": "python",
   "pygments_lexer": "ipython3",
   "version": "3.10.9"
  }
 },
 "nbformat": 4,
 "nbformat_minor": 5
}
