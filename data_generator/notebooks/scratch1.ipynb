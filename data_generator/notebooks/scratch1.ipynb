{
 "cells": [
  {
   "cell_type": "code",
   "execution_count": 2,
   "id": "712cda55",
   "metadata": {},
   "outputs": [],
   "source": [
    "import random\n",
    "import sys \n",
    "from faker import Faker\n",
    "sys.path.append('..')"
   ]
  },
  {
   "cell_type": "code",
   "execution_count": 3,
   "id": "a01eb0a4-25b1-46cd-af55-a6463eb739e2",
   "metadata": {},
   "outputs": [],
   "source": [
    "from src.data_generators.name_generator import NameGenerator\n",
    "from src.data_generators.company_generator import CompanyGenerator"
   ]
  },
  {
   "cell_type": "markdown",
   "id": "e4cf0c74",
   "metadata": {},
   "source": [
    "Generate a random name"
   ]
  },
  {
   "cell_type": "code",
   "execution_count": 5,
   "id": "255b7079",
   "metadata": {},
   "outputs": [
    {
     "data": {
      "text/plain": [
       "['Amber Brewer']"
      ]
     },
     "execution_count": 5,
     "metadata": {},
     "output_type": "execute_result"
    }
   ],
   "source": [
    "name = NameGenerator()\n",
    "name.generate(count=1)"
   ]
  },
  {
   "cell_type": "code",
   "execution_count": 9,
   "id": "5a3542bd",
   "metadata": {},
   "outputs": [],
   "source": [
    "random_names = name.generate(count=10)"
   ]
  },
  {
   "cell_type": "code",
   "execution_count": 14,
   "id": "ae6de4c6",
   "metadata": {},
   "outputs": [
    {
     "data": {
      "text/plain": [
       "['Anna',\n",
       " 'Rebecca',\n",
       " 'Sara',\n",
       " 'Tara',\n",
       " 'Zachary',\n",
       " 'Henry',\n",
       " 'Matthew',\n",
       " 'Jeffery',\n",
       " 'Renee',\n",
       " 'Karen']"
      ]
     },
     "execution_count": 14,
     "metadata": {},
     "output_type": "execute_result"
    }
   ],
   "source": []
  },
  {
   "cell_type": "code",
   "execution_count": 18,
   "id": "a8a66be8",
   "metadata": {},
   "outputs": [],
   "source": [
    "base_names = [\n",
    "    ('Matt', 'Matthew'),\n",
    "    ('John', 'Jon')\n",
    "]\n",
    "\n",
    "random_names = [i.split(' ')[0] for i in random_names]\n",
    "\n",
    "similar_name_pairs = random.sample(base_names, 2)\n",
    "\n",
    "similar_names = [name for pair in similar_name_pairs for name in pair]\n",
    "\n",
    "all_names = similar_names + random.sample(random_names, 6)"
   ]
  },
  {
   "cell_type": "code",
   "execution_count": 20,
   "id": "8f1b4c72",
   "metadata": {},
   "outputs": [],
   "source": [
    "random.shuffle(all_names)"
   ]
  },
  {
   "cell_type": "code",
   "execution_count": 21,
   "id": "54d9f58b",
   "metadata": {},
   "outputs": [
    {
     "name": "stdout",
     "output_type": "stream",
     "text": [
      "['Karen', 'Rebecca', 'Anna', 'Matthew', 'Jon', 'John', 'Tara', 'Matt', 'Zachary', 'Jeffery']\n"
     ]
    }
   ],
   "source": [
    "print(all_names)"
   ]
  },
  {
   "cell_type": "code",
   "execution_count": null,
   "id": "74c88d74",
   "metadata": {},
   "outputs": [],
   "source": []
  },
  {
   "cell_type": "markdown",
   "id": "9ede4875",
   "metadata": {},
   "source": [
    "Generate a random company with a percentage of random n-gram shuffles"
   ]
  },
  {
   "cell_type": "code",
   "execution_count": 4,
   "id": "75ac2853",
   "metadata": {},
   "outputs": [],
   "source": [
    "company = CompanyGenerator()"
   ]
  },
  {
   "cell_type": "code",
   "execution_count": 5,
   "id": "304fe281",
   "metadata": {},
   "outputs": [],
   "source": [
    "name_variation = company.generate(count=2)\n",
    "static_names = company.generate(count=10)"
   ]
  },
  {
   "cell_type": "code",
   "execution_count": null,
   "id": "7db229a5",
   "metadata": {},
   "outputs": [],
   "source": [
    "# random deletion\n",
    "# random insertion"
   ]
  },
  {
   "cell_type": "code",
   "execution_count": 22,
   "id": "be40ba85",
   "metadata": {},
   "outputs": [
    {
     "data": {
      "text/plain": [
       "['Wood, Gregory and Morgan', 'Bonilla-Conner']"
      ]
     },
     "execution_count": 22,
     "metadata": {},
     "output_type": "execute_result"
    }
   ],
   "source": []
  },
  {
   "cell_type": "code",
   "execution_count": 7,
   "id": "5a5d2bd8",
   "metadata": {},
   "outputs": [],
   "source": [
    "def random_deletion(s):\n",
    "    if len(s) == 0:\n",
    "        return s\n",
    "    index_to_remove = random.randint(0, len(s) - 1)\n",
    "    return s[:index_to_remove] + s[index_to_remove + 1:]"
   ]
  },
  {
   "cell_type": "code",
   "execution_count": 8,
   "id": "8de41db6",
   "metadata": {},
   "outputs": [],
   "source": [
    "name_variation_delete = [random_deletion(i) for i in name_variation]"
   ]
  },
  {
   "cell_type": "code",
   "execution_count": 10,
   "id": "c7ee41da",
   "metadata": {},
   "outputs": [],
   "source": [
    "full_names = name_variation + name_variation_delete + static_names"
   ]
  },
  {
   "cell_type": "code",
   "execution_count": 12,
   "id": "50db4570",
   "metadata": {},
   "outputs": [],
   "source": [
    "random.shuffle(full_names)"
   ]
  },
  {
   "cell_type": "code",
   "execution_count": 13,
   "id": "eb3e1b7e",
   "metadata": {},
   "outputs": [
    {
     "data": {
      "text/plain": [
       "['Leach, Perry and Frank',\n",
       " 'Juarez, Hart and Myers',\n",
       " 'Perkns PLC',\n",
       " 'Thomas, Riley and Hart',\n",
       " 'Phillips-Grant',\n",
       " 'Hutchinson Group',\n",
       " 'Morales, Baker and Ryan',\n",
       " 'Gonzalez Group',\n",
       " 'Meza, Parker and George',\n",
       " 'Garcia, Shaw and Atkins',\n",
       " 'Richards Ltd',\n",
       " 'Garcia,Shaw and Atkins',\n",
       " 'Perkins PLC',\n",
       " 'Simon-Patel']"
      ]
     },
     "execution_count": 13,
     "metadata": {},
     "output_type": "execute_result"
    }
   ],
   "source": [
    "full_names"
   ]
  },
  {
   "cell_type": "code",
   "execution_count": null,
   "id": "565fea1a",
   "metadata": {},
   "outputs": [],
   "source": []
  }
 ],
 "metadata": {
  "kernelspec": {
   "display_name": "entity_resolution",
   "language": "python",
   "name": "entity_resolution"
  },
  "language_info": {
   "codemirror_mode": {
    "name": "ipython",
    "version": 3
   },
   "file_extension": ".py",
   "mimetype": "text/x-python",
   "name": "python",
   "nbconvert_exporter": "python",
   "pygments_lexer": "ipython3",
   "version": "3.10.9"
  }
 },
 "nbformat": 4,
 "nbformat_minor": 5
}
